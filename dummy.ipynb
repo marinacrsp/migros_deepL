{
 "cells": [
  {
   "cell_type": "code",
   "execution_count": 1,
   "metadata": {},
   "outputs": [],
   "source": [
    "import os, gc, sys, time, random, math\n",
    "\n",
    "import torch\n",
    "import torch.nn as nn\n",
    "import torch.nn.functional as F\n",
    "\n",
    "from typing import Optional, List\n",
    "\n",
    "from torchvision import transforms\n",
    "from torch.utils.data import Dataset, DataLoader\n",
    "from diffusers import StableDiffusionPipeline\n",
    "from tqdm import tqdm\n",
    "\n",
    "from PIL import Image\n",
    "\n",
    "import numpy as np\n",
    "import pandas as pd\n",
    "from sklearn.model_selection import train_test_split\n"
   ]
  },
  {
   "cell_type": "code",
   "execution_count": 3,
   "metadata": {},
   "outputs": [],
   "source": [
    "# The main path\n",
    "Main_Path = '/home/mcrespo/migros_deepL'\n",
    "# The datasets path under the main path\n",
    "Data_storage = Main_Path + '/braTS2021_train/Flair'\n",
    "save_result_path = Main_Path + '/selora_outputs_2'\n",
    "reports_path = Data_storage + '/metadata.csv'\n",
    "### folder to save the result.\n",
    "folder_name = 'loras'\n",
    "\n",
    "metadata = pd.read_csv(reports_path)\n",
    "train_df, temp_df = train_test_split(metadata, test_size=0.2, random_state=42)\n",
    "valid_df, test_df = train_test_split(temp_df, test_size=0.2, random_state=42)\n"
   ]
  },
  {
   "cell_type": "code",
   "execution_count": 6,
   "metadata": {},
   "outputs": [
    {
     "name": "stdout",
     "output_type": "stream",
     "text": [
      "Brain MRI flair, with large tumor, on the bottom right\n"
     ]
    }
   ],
   "source": [
    "for place in range(len(test_df)):\n",
    "    temp_prompts = test_df.text.iloc[place]\n",
    "    print(temp_prompts)"
   ]
  },
  {
   "cell_type": "code",
   "execution_count": null,
   "metadata": {},
   "outputs": [],
   "source": []
  }
 ],
 "metadata": {
  "kernelspec": {
   "display_name": "sel_py11",
   "language": "python",
   "name": "python3"
  },
  "language_info": {
   "codemirror_mode": {
    "name": "ipython",
    "version": 3
   },
   "file_extension": ".py",
   "mimetype": "text/x-python",
   "name": "python",
   "nbconvert_exporter": "python",
   "pygments_lexer": "ipython3",
   "version": "3.11.7"
  }
 },
 "nbformat": 4,
 "nbformat_minor": 2
}
