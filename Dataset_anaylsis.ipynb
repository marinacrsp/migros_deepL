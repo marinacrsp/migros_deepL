{
  "nbformat": 4,
  "nbformat_minor": 0,
  "metadata": {
    "colab": {
      "provenance": []
    },
    "kernelspec": {
      "name": "python3",
      "display_name": "Python 3"
    },
    "language_info": {
      "name": "python"
    },
    "widgets": {
      "application/vnd.jupyter.widget-state+json": {
        "a8e2f3ef8f5847c98693544a4c1e0bdc": {
          "model_module": "@jupyter-widgets/controls",
          "model_name": "HBoxModel",
          "model_module_version": "1.5.0",
          "state": {
            "_dom_classes": [],
            "_model_module": "@jupyter-widgets/controls",
            "_model_module_version": "1.5.0",
            "_model_name": "HBoxModel",
            "_view_count": null,
            "_view_module": "@jupyter-widgets/controls",
            "_view_module_version": "1.5.0",
            "_view_name": "HBoxView",
            "box_style": "",
            "children": [
              "IPY_MODEL_6804eba5ddf540c2936b7da53dd805f2",
              "IPY_MODEL_7363f571ee00438b91ae8dfb4fbd5b9b",
              "IPY_MODEL_59fd9c0bbc794e199044c45d5e53d219"
            ],
            "layout": "IPY_MODEL_7f47f5ef76234f698d0f456236115e6b"
          }
        },
        "6804eba5ddf540c2936b7da53dd805f2": {
          "model_module": "@jupyter-widgets/controls",
          "model_name": "HTMLModel",
          "model_module_version": "1.5.0",
          "state": {
            "_dom_classes": [],
            "_model_module": "@jupyter-widgets/controls",
            "_model_module_version": "1.5.0",
            "_model_name": "HTMLModel",
            "_view_count": null,
            "_view_module": "@jupyter-widgets/controls",
            "_view_module_version": "1.5.0",
            "_view_name": "HTMLView",
            "description": "",
            "description_tooltip": null,
            "layout": "IPY_MODEL_798f7100e9624aa9aeea12d08629116a",
            "placeholder": "​",
            "style": "IPY_MODEL_31728f88ecd7498391257c10c9088453",
            "value": "Loading pipeline components...: 100%"
          }
        },
        "7363f571ee00438b91ae8dfb4fbd5b9b": {
          "model_module": "@jupyter-widgets/controls",
          "model_name": "FloatProgressModel",
          "model_module_version": "1.5.0",
          "state": {
            "_dom_classes": [],
            "_model_module": "@jupyter-widgets/controls",
            "_model_module_version": "1.5.0",
            "_model_name": "FloatProgressModel",
            "_view_count": null,
            "_view_module": "@jupyter-widgets/controls",
            "_view_module_version": "1.5.0",
            "_view_name": "ProgressView",
            "bar_style": "success",
            "description": "",
            "description_tooltip": null,
            "layout": "IPY_MODEL_f31af7a2ae704899bf79d3512fb10b8c",
            "max": 7,
            "min": 0,
            "orientation": "horizontal",
            "style": "IPY_MODEL_ade22379eadd417cb25a499d136744b1",
            "value": 7
          }
        },
        "59fd9c0bbc794e199044c45d5e53d219": {
          "model_module": "@jupyter-widgets/controls",
          "model_name": "HTMLModel",
          "model_module_version": "1.5.0",
          "state": {
            "_dom_classes": [],
            "_model_module": "@jupyter-widgets/controls",
            "_model_module_version": "1.5.0",
            "_model_name": "HTMLModel",
            "_view_count": null,
            "_view_module": "@jupyter-widgets/controls",
            "_view_module_version": "1.5.0",
            "_view_name": "HTMLView",
            "description": "",
            "description_tooltip": null,
            "layout": "IPY_MODEL_5f47fd59cce84af3a8a28b6e89a32397",
            "placeholder": "​",
            "style": "IPY_MODEL_17b31c4afca14d0ea5561fa858aae5c1",
            "value": " 7/7 [00:02&lt;00:00,  2.44it/s]"
          }
        },
        "7f47f5ef76234f698d0f456236115e6b": {
          "model_module": "@jupyter-widgets/base",
          "model_name": "LayoutModel",
          "model_module_version": "1.2.0",
          "state": {
            "_model_module": "@jupyter-widgets/base",
            "_model_module_version": "1.2.0",
            "_model_name": "LayoutModel",
            "_view_count": null,
            "_view_module": "@jupyter-widgets/base",
            "_view_module_version": "1.2.0",
            "_view_name": "LayoutView",
            "align_content": null,
            "align_items": null,
            "align_self": null,
            "border": null,
            "bottom": null,
            "display": null,
            "flex": null,
            "flex_flow": null,
            "grid_area": null,
            "grid_auto_columns": null,
            "grid_auto_flow": null,
            "grid_auto_rows": null,
            "grid_column": null,
            "grid_gap": null,
            "grid_row": null,
            "grid_template_areas": null,
            "grid_template_columns": null,
            "grid_template_rows": null,
            "height": null,
            "justify_content": null,
            "justify_items": null,
            "left": null,
            "margin": null,
            "max_height": null,
            "max_width": null,
            "min_height": null,
            "min_width": null,
            "object_fit": null,
            "object_position": null,
            "order": null,
            "overflow": null,
            "overflow_x": null,
            "overflow_y": null,
            "padding": null,
            "right": null,
            "top": null,
            "visibility": null,
            "width": null
          }
        },
        "798f7100e9624aa9aeea12d08629116a": {
          "model_module": "@jupyter-widgets/base",
          "model_name": "LayoutModel",
          "model_module_version": "1.2.0",
          "state": {
            "_model_module": "@jupyter-widgets/base",
            "_model_module_version": "1.2.0",
            "_model_name": "LayoutModel",
            "_view_count": null,
            "_view_module": "@jupyter-widgets/base",
            "_view_module_version": "1.2.0",
            "_view_name": "LayoutView",
            "align_content": null,
            "align_items": null,
            "align_self": null,
            "border": null,
            "bottom": null,
            "display": null,
            "flex": null,
            "flex_flow": null,
            "grid_area": null,
            "grid_auto_columns": null,
            "grid_auto_flow": null,
            "grid_auto_rows": null,
            "grid_column": null,
            "grid_gap": null,
            "grid_row": null,
            "grid_template_areas": null,
            "grid_template_columns": null,
            "grid_template_rows": null,
            "height": null,
            "justify_content": null,
            "justify_items": null,
            "left": null,
            "margin": null,
            "max_height": null,
            "max_width": null,
            "min_height": null,
            "min_width": null,
            "object_fit": null,
            "object_position": null,
            "order": null,
            "overflow": null,
            "overflow_x": null,
            "overflow_y": null,
            "padding": null,
            "right": null,
            "top": null,
            "visibility": null,
            "width": null
          }
        },
        "31728f88ecd7498391257c10c9088453": {
          "model_module": "@jupyter-widgets/controls",
          "model_name": "DescriptionStyleModel",
          "model_module_version": "1.5.0",
          "state": {
            "_model_module": "@jupyter-widgets/controls",
            "_model_module_version": "1.5.0",
            "_model_name": "DescriptionStyleModel",
            "_view_count": null,
            "_view_module": "@jupyter-widgets/base",
            "_view_module_version": "1.2.0",
            "_view_name": "StyleView",
            "description_width": ""
          }
        },
        "f31af7a2ae704899bf79d3512fb10b8c": {
          "model_module": "@jupyter-widgets/base",
          "model_name": "LayoutModel",
          "model_module_version": "1.2.0",
          "state": {
            "_model_module": "@jupyter-widgets/base",
            "_model_module_version": "1.2.0",
            "_model_name": "LayoutModel",
            "_view_count": null,
            "_view_module": "@jupyter-widgets/base",
            "_view_module_version": "1.2.0",
            "_view_name": "LayoutView",
            "align_content": null,
            "align_items": null,
            "align_self": null,
            "border": null,
            "bottom": null,
            "display": null,
            "flex": null,
            "flex_flow": null,
            "grid_area": null,
            "grid_auto_columns": null,
            "grid_auto_flow": null,
            "grid_auto_rows": null,
            "grid_column": null,
            "grid_gap": null,
            "grid_row": null,
            "grid_template_areas": null,
            "grid_template_columns": null,
            "grid_template_rows": null,
            "height": null,
            "justify_content": null,
            "justify_items": null,
            "left": null,
            "margin": null,
            "max_height": null,
            "max_width": null,
            "min_height": null,
            "min_width": null,
            "object_fit": null,
            "object_position": null,
            "order": null,
            "overflow": null,
            "overflow_x": null,
            "overflow_y": null,
            "padding": null,
            "right": null,
            "top": null,
            "visibility": null,
            "width": null
          }
        },
        "ade22379eadd417cb25a499d136744b1": {
          "model_module": "@jupyter-widgets/controls",
          "model_name": "ProgressStyleModel",
          "model_module_version": "1.5.0",
          "state": {
            "_model_module": "@jupyter-widgets/controls",
            "_model_module_version": "1.5.0",
            "_model_name": "ProgressStyleModel",
            "_view_count": null,
            "_view_module": "@jupyter-widgets/base",
            "_view_module_version": "1.2.0",
            "_view_name": "StyleView",
            "bar_color": null,
            "description_width": ""
          }
        },
        "5f47fd59cce84af3a8a28b6e89a32397": {
          "model_module": "@jupyter-widgets/base",
          "model_name": "LayoutModel",
          "model_module_version": "1.2.0",
          "state": {
            "_model_module": "@jupyter-widgets/base",
            "_model_module_version": "1.2.0",
            "_model_name": "LayoutModel",
            "_view_count": null,
            "_view_module": "@jupyter-widgets/base",
            "_view_module_version": "1.2.0",
            "_view_name": "LayoutView",
            "align_content": null,
            "align_items": null,
            "align_self": null,
            "border": null,
            "bottom": null,
            "display": null,
            "flex": null,
            "flex_flow": null,
            "grid_area": null,
            "grid_auto_columns": null,
            "grid_auto_flow": null,
            "grid_auto_rows": null,
            "grid_column": null,
            "grid_gap": null,
            "grid_row": null,
            "grid_template_areas": null,
            "grid_template_columns": null,
            "grid_template_rows": null,
            "height": null,
            "justify_content": null,
            "justify_items": null,
            "left": null,
            "margin": null,
            "max_height": null,
            "max_width": null,
            "min_height": null,
            "min_width": null,
            "object_fit": null,
            "object_position": null,
            "order": null,
            "overflow": null,
            "overflow_x": null,
            "overflow_y": null,
            "padding": null,
            "right": null,
            "top": null,
            "visibility": null,
            "width": null
          }
        },
        "17b31c4afca14d0ea5561fa858aae5c1": {
          "model_module": "@jupyter-widgets/controls",
          "model_name": "DescriptionStyleModel",
          "model_module_version": "1.5.0",
          "state": {
            "_model_module": "@jupyter-widgets/controls",
            "_model_module_version": "1.5.0",
            "_model_name": "DescriptionStyleModel",
            "_view_count": null,
            "_view_module": "@jupyter-widgets/base",
            "_view_module_version": "1.2.0",
            "_view_name": "StyleView",
            "description_width": ""
          }
        }
      }
    }
  },
  "cells": [
    {
      "cell_type": "markdown",
      "source": [
        "#### 1: Dataset anaylsis\n"
      ],
      "metadata": {
        "id": "9vaJU04qczrj"
      }
    },
    {
      "cell_type": "code",
      "source": [
        "from google.colab import drive\n",
        "drive.mount('/content/drive')"
      ],
      "metadata": {
        "id": "oYTbHuIIiGfk",
        "colab": {
          "base_uri": "https://localhost:8080/"
        },
        "outputId": "b525efe0-1fb3-4627-a57b-86f71f2d939d"
      },
      "execution_count": 1,
      "outputs": [
        {
          "output_type": "stream",
          "name": "stdout",
          "text": [
            "Mounted at /content/drive\n"
          ]
        }
      ]
    },
    {
      "cell_type": "code",
      "source": [
        "import os\n",
        "import numpy as np\n",
        "from PIL import Image\n",
        "from collections import Counter\n",
        "\n",
        "Data_storage = r'/content/drive/MyDrive/Università/ETH/DL/DL Project/Code/Small_brats_sample/BraTS2021_train/Flair'\n",
        "files = os.listdir(Data_storage)\n",
        "print('The dataset contains {} images'.format(len(files)))\n",
        "\n",
        "image_shapes = []\n",
        "\n",
        "# Loop through all files to gather image shapes\n",
        "for file in files:\n",
        "    file_path = os.path.join(Data_storage, file)\n",
        "    try:\n",
        "        with Image.open(file_path) as img:\n",
        "            image_shapes.append(img.size)  # img.size returns (width, height)\n",
        "    except Exception as e:\n",
        "        print(f\"Error processing file {file}: {e}\")\n",
        "\n",
        "## SHAPES\n",
        "# Analyze the shapes\n",
        "shape_counter = Counter(image_shapes)\n",
        "\n",
        "# Check if all images have the same shape\n",
        "if len(shape_counter) == 1:\n",
        "    print(f\"The images in the dataset have shape: {list(shape_counter.keys())[0]}\")\n",
        "else:\n",
        "    print(\"Images have different shapes. Distribution of shapes:\")\n",
        "    for shape, count in shape_counter.items():\n",
        "        print(f\"Shape {shape}: {count} images\")\n",
        "\n",
        "## INTENSITY RANGES\n",
        "# Initialize variables to store the min and max pixel values across all images\n",
        "global_min = float('inf')\n",
        "global_max = float('-inf')\n",
        "pixel_ranges = []  # To store (min, max) for each image\n",
        "\n",
        "# Loop through all files to analyze pixel value ranges\n",
        "for file in files:\n",
        "    file_path = os.path.join(Data_storage, file)\n",
        "    try:\n",
        "        # Open the image and convert to a numpy array\n",
        "        with Image.open(file_path) as img:\n",
        "            img_array = np.array(img)\n",
        "            img_min = img_array.min()\n",
        "            img_max = img_array.max()\n",
        "            pixel_ranges.append((img_min, img_max))\n",
        "\n",
        "            # Update global min and max\n",
        "            global_min = min(global_min, img_min)\n",
        "            global_max = max(global_max, img_max)\n",
        "    except Exception as e:\n",
        "        print(f\"Error processing file {file}: {e}\")\n",
        "\n",
        "# Print the global min and max pixel values\n",
        "print(f\"The global pixel value range across all images: min={global_min}, max={global_max}\")\n",
        "\n",
        "# If you want to analyze the distribution of ranges\n",
        "unique_ranges = {}\n",
        "for min_val, max_val in pixel_ranges:\n",
        "    unique_ranges[(min_val, max_val)] = unique_ranges.get((min_val, max_val), 0) + 1\n",
        "\n",
        "print(\"\\nDistribution of pixel value ranges across images:\")\n",
        "for (min_val, max_val), count in unique_ranges.items():\n",
        "    print(f\"Range ({min_val}, {max_val}): {count} images\")"
      ],
      "metadata": {
        "colab": {
          "base_uri": "https://localhost:8080/"
        },
        "id": "cGQJbNRrdHPq",
        "outputId": "6789bc26-aca0-41c4-e404-c4aa872b6262"
      },
      "execution_count": 6,
      "outputs": [
        {
          "output_type": "stream",
          "name": "stdout",
          "text": [
            "The dataset contains 11 images\n",
            "The images in the dataset have shape: (512, 512)\n",
            "The global pixel value range across all images: min=0, max=255\n",
            "\n",
            "Distribution of pixel value ranges across images:\n",
            "Range (0, 255): 5 images\n",
            "Range (0, 250): 1 images\n",
            "Range (0, 254): 3 images\n",
            "Range (0, 252): 1 images\n",
            "Range (0, 253): 1 images\n"
          ]
        }
      ]
    },
    {
      "cell_type": "markdown",
      "source": [
        "#### 2: Dataset preprocessing\n",
        "Analysing what happens online just before training\n",
        "Fist, mount drive"
      ],
      "metadata": {
        "id": "aDH8KE0liCzS"
      }
    },
    {
      "cell_type": "code",
      "source": [
        "from torchvision import transforms\n",
        "from torch.utils.data import Dataset, DataLoader\n",
        "import pandas as pd"
      ],
      "metadata": {
        "id": "A0D1EPxd7q-V"
      },
      "execution_count": 17,
      "outputs": []
    },
    {
      "cell_type": "code",
      "execution_count": 19,
      "metadata": {
        "colab": {
          "base_uri": "https://localhost:8080/",
          "height": 49,
          "referenced_widgets": [
            "a8e2f3ef8f5847c98693544a4c1e0bdc",
            "6804eba5ddf540c2936b7da53dd805f2",
            "7363f571ee00438b91ae8dfb4fbd5b9b",
            "59fd9c0bbc794e199044c45d5e53d219",
            "7f47f5ef76234f698d0f456236115e6b",
            "798f7100e9624aa9aeea12d08629116a",
            "31728f88ecd7498391257c10c9088453",
            "f31af7a2ae704899bf79d3512fb10b8c",
            "ade22379eadd417cb25a499d136744b1",
            "5f47fd59cce84af3a8a28b6e89a32397",
            "17b31c4afca14d0ea5561fa858aae5c1"
          ]
        },
        "id": "VcQxp2D5hwA1",
        "outputId": "fa915cf1-a710-4acb-8bae-50cbf6b10dae"
      },
      "outputs": [
        {
          "output_type": "display_data",
          "data": {
            "text/plain": [
              "Loading pipeline components...:   0%|          | 0/7 [00:00<?, ?it/s]"
            ],
            "application/vnd.jupyter.widget-view+json": {
              "version_major": 2,
              "version_minor": 0,
              "model_id": "a8e2f3ef8f5847c98693544a4c1e0bdc"
            }
          },
          "metadata": {}
        }
      ],
      "source": [
        "from diffusers import StableDiffusionPipeline\n",
        "model_id = \"runwayml/stable-diffusion-v1-5\"\n",
        "pipe = StableDiffusionPipeline.from_pretrained(model_id)\n",
        "tokenizer = pipe.tokenizer\n",
        "\n",
        "df = pd.read_csv(r'/content/drive/MyDrive/Università/ETH/DL/DL Project/Code/Small_brats_sample/BraTS2021_train/metadata.csv')"
      ]
    },
    {
      "cell_type": "code",
      "source": [
        "# Make sure this corresponds to the class used in the main code\n",
        "class ImageDataset(Dataset):\n",
        "    def __init__(self, root_dir, df, tokenizer, size = 224, center_crop = True):\n",
        "        self.root_dir = root_dir\n",
        "        self.files = df['File_name'].tolist()\n",
        "        self.findings = df['text'].tolist()\n",
        "        self.tokenizer = tokenizer\n",
        "        self.image_transforms = transforms.Compose(\n",
        "            [\n",
        "                transforms.Resize(size, interpolation=transforms.InterpolationMode.BILINEAR),\n",
        "                transforms.CenterCrop(size) if center_crop else transforms.RandomCrop(size),\n",
        "                transforms.ToTensor(),\n",
        "                transforms.Normalize([0.5], [0.5]),\n",
        "            ]\n",
        "        )\n",
        "\n",
        "\n",
        "    def __len__(self):\n",
        "        return len(self.files)\n",
        "\n",
        "    def __getitem__(self, idx):\n",
        "        example = {}\n",
        "        instance_image = Image.open(\n",
        "            os.path.join(self.root_dir, self.files[idx])\n",
        "        ).convert(\"RGB\")\n",
        "\n",
        "        example[\"instance_images\"] = self.image_transforms(instance_image)\n",
        "        example[\"instance_prompt_ids\"] = self.tokenizer(\n",
        "            self.findings[idx],\n",
        "            truncation=True,\n",
        "            padding=\"max_length\",\n",
        "            max_length=self.tokenizer.model_max_length,\n",
        "            return_tensors=\"pt\",\n",
        "        ).input_ids\n",
        "\n",
        "        return example\n"
      ],
      "metadata": {
        "id": "VoHZCnfJiRpc"
      },
      "execution_count": 20,
      "outputs": []
    },
    {
      "cell_type": "code",
      "source": [
        "# create image dataset\n",
        "ds = ImageDataset(\n",
        "    root_dir=Data_storage,\n",
        "    df=df,\n",
        "    tokenizer=tokenizer,\n",
        ")"
      ],
      "metadata": {
        "id": "Hpsf-KbkiTF6"
      },
      "execution_count": 27,
      "outputs": []
    },
    {
      "cell_type": "markdown",
      "source": [
        "Let's analyise the composition of the dataset, so how many cases we have!"
      ],
      "metadata": {
        "id": "GoGImjqKL7L-"
      }
    },
    {
      "cell_type": "code",
      "source": [
        "class_definitions = {\n",
        "    'healthy_class': 'healthy',  # a word only found in \"healty\" prompts\n",
        "    'cancer_class': 'tumor',  # a word only found in \"cancer\" prompts\n",
        "}\n",
        "\n",
        "def classify_prompt(prompt, class_definitions):\n",
        "    for class_name, trigger in class_definitions.items():\n",
        "        if trigger in prompt.lower():  # Case-insensitive matching\n",
        "            return class_name  # Return class name if trigger is found\n",
        "    return \"Other\"  # Default class if no trigger found\n",
        "\n",
        "df['class'] = df['text'].apply(lambda prompt: classify_prompt(prompt, class_definitions))\n",
        "class_counts = df['class'].value_counts()\n",
        "print(class_counts)\n"
      ],
      "metadata": {
        "colab": {
          "base_uri": "https://localhost:8080/"
        },
        "id": "8MwigGMBNeR9",
        "outputId": "2cd437c3-5143-4e8c-e739-86496416ab15"
      },
      "execution_count": 44,
      "outputs": [
        {
          "output_type": "stream",
          "name": "stdout",
          "text": [
            "class\n",
            "cancer_class     9\n",
            "healthy_class    2\n",
            "Name: count, dtype: int64\n"
          ]
        }
      ]
    },
    {
      "cell_type": "code",
      "source": [
        "# analyise features of 1 image\n",
        "\n",
        "import matplotlib.pyplot as plt\n",
        "\n",
        "img = ds[0][\"instance_images\"][0] #pick arbitratry image\n",
        "plt.imshow(img, cmap='gray')\n",
        "plt.colorbar()\n",
        "print(f'Shape of image: {img.shape}')\n",
        "print(f\"Range of values in the image: ({np.min(np.array(img))}, {np.max(np.array(img))})\")\n"
      ],
      "metadata": {
        "id": "9d0qbaSViUhI",
        "colab": {
          "base_uri": "https://localhost:8080/",
          "height": 469
        },
        "outputId": "37685307-826a-460d-c953-13b77e6dd95d"
      },
      "execution_count": 26,
      "outputs": [
        {
          "output_type": "stream",
          "name": "stdout",
          "text": [
            "Shape of image: torch.Size([224, 224])\n",
            "Range of values in the image: (-1.0, 0.9764705896377563)\n"
          ]
        },
        {
          "output_type": "display_data",
          "data": {
            "text/plain": [
              "<Figure size 640x480 with 2 Axes>"
            ],
            "image/png": "[encoded data removed]"
          },
          "metadata": {}
        }
      ]
    }
  ]
}